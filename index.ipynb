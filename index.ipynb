{
 "cells": [
  {
   "cell_type": "markdown",
   "metadata": {
    "slideshow": {
     "slide_type": "slide"
    }
   },
   "source": [
    "\n",
    "<h1> 1<sup>st</sup> SWAN Users' Workshop </h1>\n",
    "\n",
    "<h2> SWAN for HGCAL Test Beam Analysis </h2>\n",
    "\n",
    "<h3> Quick usecase example </h3>\n",
    "\n",
    "\n",
    "<footer>\n",
    "  <p>Notebook by: Matteo Bonanomi</p>\n",
    "  Contact information: <a href=\"mailto:matteo.bonanomi@cern.ch\">\n",
    "  matteo.bonanomi@cern.ch</a>.\n",
    "</footer> "
   ]
  },
  {
   "cell_type": "code",
   "execution_count": 1,
   "metadata": {
    "slideshow": {
     "slide_type": "skip"
    }
   },
   "outputs": [],
   "source": [
    "import getpass\n",
    "import os\n",
    "if( os.system('klist | grep Default | grep mbonanom@CERN.CH') ):\n",
    "    os.system('echo %s | kinit mbonanom' % getpass.getpass() )"
   ]
  },
  {
   "cell_type": "markdown",
   "metadata": {
    "slideshow": {
     "slide_type": "slide"
    }
   },
   "source": [
    "Importing some libraries needed across the notebook."
   ]
  },
  {
   "cell_type": "code",
   "execution_count": 2,
   "metadata": {
    "slideshow": {
     "slide_type": "-"
    }
   },
   "outputs": [],
   "source": [
    "import sys\n",
    "import uproot\n",
    "import pandas as pd\n",
    "import numpy as np\n",
    "import matplotlib.mlab as mlab\n",
    "\n",
    "from scipy.optimize import curve_fit\n",
    "from scipy.stats import binned_statistic\n",
    "from scipy.special import erf\n",
    "from scipy.stats import iqr"
   ]
  },
  {
   "cell_type": "markdown",
   "metadata": {
    "slideshow": {
     "slide_type": "-"
    }
   },
   "source": [
    "Importing matplotlib for plots and setting some style features."
   ]
  },
  {
   "cell_type": "code",
   "execution_count": 3,
   "metadata": {
    "slideshow": {
     "slide_type": "-"
    }
   },
   "outputs": [],
   "source": [
    "import matplotlib as mpl\n",
    "import matplotlib.pyplot as plt\n",
    "import matplotlib.colors as mcolors\n",
    "import matplotlib.lines as mlines\n",
    "from matplotlib.colors import LogNorm\n",
    "mpl.rcParams['image.cmap'] = 'viridis'\n",
    "\n",
    "%matplotlib inline"
   ]
  },
  {
   "cell_type": "code",
   "execution_count": 4,
   "metadata": {
    "slideshow": {
     "slide_type": "skip"
    }
   },
   "outputs": [],
   "source": [
    "cms_hist = {'bins' : 80, 'histtype' : 'step', 'linewidth' : 2, 'density' : True}"
   ]
  },
  {
   "cell_type": "code",
   "execution_count": 52,
   "metadata": {
    "slideshow": {
     "slide_type": "skip"
    }
   },
   "outputs": [],
   "source": [
    "cms_plt = {'linestyle' : '--', 'marker' : 'o', 'linewidth' : 2}"
   ]
  },
  {
   "cell_type": "code",
   "execution_count": 6,
   "metadata": {
    "slideshow": {
     "slide_type": "skip"
    }
   },
   "outputs": [],
   "source": [
    "font = {'family' : 'DejaVu Sans',\n",
    "        'weight' : 'normal',\n",
    "        'size'   : 22}\n",
    "\n",
    "mpl.rc('font', **font)"
   ]
  },
  {
   "cell_type": "markdown",
   "metadata": {
    "slideshow": {
     "slide_type": "subslide"
    }
   },
   "source": [
    "Importing some user defined class for the HGCAL TB analysis."
   ]
  },
  {
   "cell_type": "code",
   "execution_count": 7,
   "metadata": {
    "slideshow": {
     "slide_type": "-"
    }
   },
   "outputs": [],
   "source": [
    "from hgcalsw.data import read_ntuple as do_df\n",
    "from hgcalsw.utils import observables as obs\n",
    "from hgcalsw.fit import fit_functions as fit"
   ]
  },
  {
   "cell_type": "code",
   "execution_count": 27,
   "metadata": {
    "slideshow": {
     "slide_type": "skip"
    }
   },
   "outputs": [],
   "source": [
    "SF = 0.92"
   ]
  },
  {
   "cell_type": "code",
   "execution_count": 88,
   "metadata": {
    "slideshow": {
     "slide_type": "skip"
    }
   },
   "outputs": [],
   "source": [
    "plt.rcParams['figure.figsize'] = (10,6)"
   ]
  },
  {
   "cell_type": "markdown",
   "metadata": {
    "slideshow": {
     "slide_type": "slide"
    }
   },
   "source": [
    "<h2> From ROOT TTrees to pandas dataframes </h2>"
   ]
  },
  {
   "cell_type": "markdown",
   "metadata": {
    "slideshow": {
     "slide_type": "-"
    }
   },
   "source": [
    "<h3> Everything without even needing ROOT :)  </h3>"
   ]
  },
  {
   "cell_type": "markdown",
   "metadata": {},
   "source": [
    "There are several advantages of going from `ROOT` to `pandas` data frames:\n",
    " * Trivial one: we can perform the same analysis we would do in `ROOT` without having it installed, exploiting the `uproot` library to read the `TTrees` and convert them directly into a `pd.DataFrame()`;\n",
    " * Most of the time in a beam test analysis we are interested in producing *quickly* plots for comparisons and to decide in which direction move for the next step(s): the jupyter notebooks are an excellent tool to do this;\n",
    " * Our data are stored in `eos`: using SWAN we can directly access the files directly from the `eos` areas they are stored in;\n",
    " * We get rid of longs (and sometime difficult to read) `ROOT` macros."
   ]
  },
  {
   "cell_type": "markdown",
   "metadata": {
    "slideshow": {
     "slide_type": "slide"
    }
   },
   "source": [
    "Location and run number are the only user input needed for the creation of the dataframe."
   ]
  },
  {
   "cell_type": "code",
   "execution_count": 8,
   "metadata": {
    "slideshow": {
     "slide_type": "skip"
    }
   },
   "outputs": [],
   "source": [
    "def do_dataf(run, location, isMC=False, withDWC=True):\n",
    "    '''\n",
    "        Helper function to read TB ntuples.\n",
    "        Works both for Data and MC.\n",
    "        The final dataframe created contains the info\n",
    "        about the hits and the DWC. Some preselection\n",
    "        according to known problems is already applied.\n",
    "    '''\n",
    "    branches = [u'rechit_chip', 'rechit_module', 'rechit_channel',\n",
    "                u'rechit_energy', 'rechit_layer']\n",
    "\n",
    "    dwc_branches = [u'ntracks', 'dwcReferenceType', 'b_x', 'b_y'] \n",
    "    rh_branches = [branch for branch in branches if 'rechit' in branch]\n",
    "\n",
    "    fname = location + 'ntuple_%i.root' %run\n",
    "    if isMC:\n",
    "        fname = location + 'ntuple_sim_config22_pdgID11_beamMomentum%i_listFTFP_BERT_EMN.root' %run\n",
    "    key='rechitntupler/hits'\n",
    "    df = uproot.open(fname)[key].pandas.df(branches)\n",
    "    df = df.reset_index(level=1,drop=True)\n",
    "    df.index.names = ['event']\n",
    "\n",
    "    if withDWC:\n",
    "        key_dwc='trackimpactntupler/impactPoints'\n",
    "        dwc = uproot.open(fname)[key_dwc].pandas.df(dwc_branches)\n",
    "        dwc = dwc.reset_index(drop=True)\n",
    "        dwc.index.names = ['event']\n",
    "        df_dwc = df.join(dwc)    \n",
    "        sel_dwc = (df_dwc.ntracks == 1) & (df_dwc.dwcReferenceType == 13)\n",
    "\n",
    "    else:\n",
    "        df_dwc = df#.copy()\n",
    "\n",
    "    sel = (df_dwc.rechit_energy > 0.5)\n",
    "    sel &= ~((df_dwc.rechit_chip == 3) & (df_dwc.rechit_channel == 22))\n",
    "    sel &= ~((df_dwc.rechit_module == 78) & (df_dwc.rechit_chip == 0))\n",
    "\n",
    "    if withDWC:\n",
    "        sel &= sel_dwc\n",
    "    \n",
    "    df_sel = df_dwc[sel]#.copy()\n",
    "    \n",
    "    for name in df_sel.columns:\n",
    "        if (name == 'rechit_chip') | (name == 'rechit_layer') | (name == 'rechit_module') | (name == 'rechit_channel') | (name == 'ntracks') | (name == 'dwcReferenceType'):\n",
    "            df_sel[name] = df_sel[name].astype('int8')\n",
    "        else: df_sel[name] = df_sel[name].astype('float16')\n",
    "    \n",
    "    if isMC: \n",
    "        return df_sel\n",
    "    \n",
    "    # This selection works only for data and it is necessary to remove pions contamination\n",
    "    # Especially at 120 and 150 GeV (see Thorben's plots on mattermost).\n",
    "    \n",
    "    sel = (df_sel[(df_sel.rechit_energy>0.5) & (df_sel.rechit_layer>28) & (df_sel.rechit_layer<=40)].groupby('event').rechit_layer.size() < 80)\n",
    "    df_sel = df_sel[sel].copy()\n",
    "\n",
    "    return df_sel\n"
   ]
  },
  {
   "cell_type": "code",
   "execution_count": 9,
   "metadata": {
    "slideshow": {
     "slide_type": "-"
    }
   },
   "outputs": [],
   "source": [
    "run = 435; energy = 300\n",
    "location = 'root://eoscms.cern.ch//eos/cms/store/group/dpg_hgcal/tb_hgcal/2018/cern_h2_october/offline_analysis/ntuples/v13_patch1/'\n",
    "location_sim = '/eos/cms/store/group/dpg_hgcal/tb_hgcal/2018/cern_h2_october/offline_analysis/sim_ntuples/v2/withMCP/EMN/Angle/'"
   ]
  },
  {
   "cell_type": "markdown",
   "metadata": {
    "slideshow": {
     "slide_type": "-"
    }
   },
   "source": [
    "Flattened dataframe containing all the information per event and the branches coming from the merge, and boolean selection, of two different TTrees."
   ]
  },
  {
   "cell_type": "code",
   "execution_count": 10,
   "metadata": {
    "slideshow": {
     "slide_type": "skip"
    }
   },
   "outputs": [
    {
     "name": "stderr",
     "output_type": "stream",
     "text": [
      "/usr/local/bin/start_ipykernel.py:45: SettingWithCopyWarning: \n",
      "A value is trying to be set on a copy of a slice from a DataFrame.\n",
      "Try using .loc[row_indexer,col_indexer] = value instead\n",
      "\n",
      "See the caveats in the documentation: http://pandas.pydata.org/pandas-docs/stable/indexing.html#indexing-view-versus-copy\n",
      "/usr/local/bin/start_ipykernel.py:46: SettingWithCopyWarning: \n",
      "A value is trying to be set on a copy of a slice from a DataFrame.\n",
      "Try using .loc[row_indexer,col_indexer] = value instead\n",
      "\n",
      "See the caveats in the documentation: http://pandas.pydata.org/pandas-docs/stable/indexing.html#indexing-view-versus-copy\n"
     ]
    },
    {
     "name": "stdout",
     "output_type": "stream",
     "text": [
      "CPU times: user 45.8 s, sys: 28.8 s, total: 1min 14s\n",
      "Wall time: 3min 44s\n"
     ]
    }
   ],
   "source": [
    "%%time\n",
    "df_sim = do_dataf(energy, location_sim, isMC=True, withDWC=False)"
   ]
  },
  {
   "cell_type": "code",
   "execution_count": 11,
   "metadata": {
    "slideshow": {
     "slide_type": "skip"
    }
   },
   "outputs": [
    {
     "name": "stderr",
     "output_type": "stream",
     "text": [
      "/usr/local/bin/start_ipykernel.py:45: SettingWithCopyWarning: \n",
      "A value is trying to be set on a copy of a slice from a DataFrame.\n",
      "Try using .loc[row_indexer,col_indexer] = value instead\n",
      "\n",
      "See the caveats in the documentation: http://pandas.pydata.org/pandas-docs/stable/indexing.html#indexing-view-versus-copy\n",
      "/usr/local/bin/start_ipykernel.py:46: SettingWithCopyWarning: \n",
      "A value is trying to be set on a copy of a slice from a DataFrame.\n",
      "Try using .loc[row_indexer,col_indexer] = value instead\n",
      "\n",
      "See the caveats in the documentation: http://pandas.pydata.org/pandas-docs/stable/indexing.html#indexing-view-versus-copy\n",
      "/usr/local/bin/start_ipykernel.py:55: UserWarning: Boolean Series key will be reindexed to match DataFrame index.\n"
     ]
    },
    {
     "name": "stdout",
     "output_type": "stream",
     "text": [
      "CPU times: user 9.44 s, sys: 6.11 s, total: 15.5 s\n",
      "Wall time: 19.9 s\n"
     ]
    }
   ],
   "source": [
    "%%time\n",
    "df_dt = do_dataf(run, location)"
   ]
  },
  {
   "cell_type": "code",
   "execution_count": null,
   "metadata": {
    "slideshow": {
     "slide_type": "-"
    }
   },
   "outputs": [],
   "source": [
    "df_dt = do_df.do_df(run, location)\n",
    "df_sim = do_df.do_df(energy, location_sim, isMC=True, withDWC=False)"
   ]
  },
  {
   "cell_type": "markdown",
   "metadata": {
    "slideshow": {
     "slide_type": "slide"
    }
   },
   "source": [
    "<h3> Reconstruction of the energy deposit in the calorimeter </h3>\n",
    "\n",
    "Now we get a bit more into the details of the analysis. Let's create the energy spectrum for the events in this run.\n",
    "What is happening behind the scenes:\n",
    " * We have created our dataframe applying all the preselection cuts needed to keep only interesting events;\n",
    " * We are collecting the sum of the `rechit_energy` variable for every event. This information is stored in the `total_energy` variable;\n",
    " * We can now plot this `pd.Series()` to look how the energy spectrum looks like.\n",
    " * More interesting: we can fit this distribution (using to `repeatedGausFit` routine) to retrieve the resolution and the energy measurement, which are the two observables we are interested to for our analysis."
   ]
  },
  {
   "cell_type": "code",
   "execution_count": 14,
   "metadata": {
    "slideshow": {
     "slide_type": "-"
    }
   },
   "outputs": [],
   "source": [
    "total_energy = obs.get_totE(df_dt)\n",
    "total_energy_sim = obs.get_totE(df_sim)"
   ]
  },
  {
   "cell_type": "code",
   "execution_count": 59,
   "metadata": {
    "slideshow": {
     "slide_type": "skip"
    }
   },
   "outputs": [],
   "source": [
    "total_energy_sim = total_energy_sim*SF"
   ]
  },
  {
   "cell_type": "code",
   "execution_count": 90,
   "metadata": {
    "slideshow": {
     "slide_type": "subslide"
    }
   },
   "outputs": [
    {
     "data": {
      "text/plain": [
       "<matplotlib.legend.Legend at 0x7f89e2003eb8>"
      ]
     },
     "execution_count": 90,
     "metadata": {},
     "output_type": "execute_result"
    },
    {
     "data": {
      "image/png": "[encoded data removed]",
      "text/plain": [
       "<Figure size 720x432 with 1 Axes>"
      ]
     },
     "metadata": {},
     "output_type": "display_data"
    }
   ],
   "source": [
    "plt.title('Total energy sum')\n",
    "r = plt.hist(total_energy, color = 'k', **cms_hist, label = 'Data')\n",
    "r = plt.hist(total_energy_sim, color = 'r', **cms_hist, label = 'Sim.')\n",
    "fit_f = fit.repeatedGausFit(total_energy_sim, energy, drawFit=True)\n",
    "plt.xlim(20000, 30000)\n",
    "plt.grid()\n",
    "plt.legend(loc = 2)"
   ]
  },
  {
   "cell_type": "markdown",
   "metadata": {
    "slideshow": {
     "slide_type": "slide"
    }
   },
   "source": [
    "Most of the physics results rely on some fitting procedures, i.e. finding the best curve (and its parameters) that describe our data. In this example we are interested in the **mean energy deposit** in the HGCAL prototype. This information can be extracted applying the `repeatedGausFit` routine we have developed (in `hgcalsw`) on the energy spectra shown above."
   ]
  },
  {
   "cell_type": "code",
   "execution_count": 61,
   "metadata": {
    "slideshow": {
     "slide_type": "-"
    }
   },
   "outputs": [],
   "source": [
    "fit_data = fit.repeatedGausFit(total_energy, energy)\n",
    "fit_sim = fit.repeatedGausFit(total_energy_sim, energy)"
   ]
  },
  {
   "cell_type": "code",
   "execution_count": 62,
   "metadata": {
    "slideshow": {
     "slide_type": "-"
    }
   },
   "outputs": [],
   "source": [
    "resolution = fit_data[0]; resolution_sim = fit_sim[0]\n",
    "mean_energy = fit_data[2]; mean_energy_sim = fit_sim[2]"
   ]
  },
  {
   "cell_type": "code",
   "execution_count": 82,
   "metadata": {
    "slideshow": {
     "slide_type": "skip"
    }
   },
   "outputs": [],
   "source": [
    "res_diff = abs(resolution - resolution_sim)/resolution_sim * 1e2"
   ]
  },
  {
   "cell_type": "code",
   "execution_count": 83,
   "metadata": {},
   "outputs": [
    {
     "name": "stdout",
     "output_type": "stream",
     "text": [
      "Discrepancy between Data and simulation estimated resolutions: 2.73 %\n"
     ]
    }
   ],
   "source": [
    "print('Discrepancy between Data and simulation estimated resolutions: %.2f %%' %res_diff)"
   ]
  },
  {
   "cell_type": "markdown",
   "metadata": {
    "slideshow": {
     "slide_type": "slide"
    }
   },
   "source": [
    "<h3> Longitudinal profiles and energy deposit estimation </h3>\n",
    "\n",
    "Using `pandas` data frames, all the selection operations become *quick* and *easy*. We can filter the events to look only into a specific region of the calorimeter. Namely, we are interested in the *electromagnetic compartment* (EE), i.e. only the first 29 layers. Hence we create a **boolean mask `EE_lay`** which we can use later on to select only these events."
   ]
  },
  {
   "cell_type": "code",
   "execution_count": 41,
   "metadata": {
    "slideshow": {
     "slide_type": "-"
    }
   },
   "outputs": [],
   "source": [
    "EE_lay = df_dt.rechit_layer < 29\n",
    "EE_sim = df_sim.rechit_layer < 29"
   ]
  },
  {
   "cell_type": "markdown",
   "metadata": {},
   "source": [
    "We apply our bool masks on the two dataframes under study and we get the **longitudinal profiles**, i.e. the fraction of energy deposit per HGCAL layer, in the electromagnetic part of our calorimeter. Also in this case we use a module of the `hgcalsw` package: an external dependency easily installed directly from the Notebook :)\n",
    "We use also `curve_fit`, a method of `scipy.optimize` to fit a function to data using non-linear least squares. In our case, the function used is defined in `hgcalsw.fit` and it is the `showerShape()` function. One of its parameters is the **energy deposit** in the calorimeter: a redundant information to crosscheck the result of our first fit on E sums."
   ]
  },
  {
   "cell_type": "code",
   "execution_count": 43,
   "metadata": {
    "slideshow": {
     "slide_type": "-"
    }
   },
   "outputs": [],
   "source": [
    "profile = obs.get_longProf(df_dt[EE_lay])\n",
    "profile_sim = obs.get_longProf(df_sim[EE_sim])"
   ]
  },
  {
   "cell_type": "code",
   "execution_count": 92,
   "metadata": {
    "slideshow": {
     "slide_type": "subslide"
    }
   },
   "outputs": [
    {
     "data": {
      "text/plain": [
       "[<matplotlib.lines.Line2D at 0x7f89e2706860>]"
      ]
     },
     "execution_count": 92,
     "metadata": {},
     "output_type": "execute_result"
    },
    {
     "data": {
      "image/png": "[encoded data removed]",
      "text/plain": [
       "<Figure size 720x432 with 1 Axes>"
      ]
     },
     "metadata": {},
     "output_type": "display_data"
    }
   ],
   "source": [
    "plt.title('Longitudinal profile')\n",
    "plt.plot(profile, color = 'k', **cms_plt)\n",
    "plt.plot(profile_sim, color = 'r', **cms_plt, mfc = 'None')\n",
    "popt, pcov = curve_fit(fit.showerShape, profile_sim[1:].index, profile_sim[1:])\n",
    "plt.plot(profile_sim.index, fit.showerShape(profile_sim.index, *popt), 'r-')"
   ]
  },
  {
   "cell_type": "code",
   "execution_count": 78,
   "metadata": {
    "slideshow": {
     "slide_type": "skip"
    }
   },
   "outputs": [],
   "source": [
    "reco_diff = abs(mean_energy_sim - popt[2])/mean_energy_sim * 1e2"
   ]
  },
  {
   "cell_type": "code",
   "execution_count": 94,
   "metadata": {
    "slideshow": {
     "slide_type": "-"
    }
   },
   "outputs": [
    {
     "name": "stdout",
     "output_type": "stream",
     "text": [
      "Discrepancy between the two reconstructed energies: 3.25 %\n"
     ]
    }
   ],
   "source": [
    "print('Discrepancy between the two reconstructed energies: %.2f %%' %reco_diff)"
   ]
  },
  {
   "cell_type": "code",
   "execution_count": null,
   "metadata": {
    "slideshow": {
     "slide_type": "skip"
    }
   },
   "outputs": [],
   "source": []
  },
  {
   "cell_type": "markdown",
   "metadata": {
    "slideshow": {
     "slide_type": "slide"
    }
   },
   "source": [
    "<h3> Shower depth </h3>\n",
    "\n",
    "Another interesting observable that is worth a look is the shower depth distribution. This observable is computed per event in terms of `X0` according to the standard definition:\n",
    "$\\frac{\\sum{E_i X_{0_i}}}{E_{Tot}}$."
   ]
  },
  {
   "cell_type": "code",
   "execution_count": 47,
   "metadata": {
    "slideshow": {
     "slide_type": "-"
    }
   },
   "outputs": [],
   "source": [
    "cog = obs.do_COG(df_dt[EE_lay])\n",
    "cog_sim = obs.do_COG(df_sim[EE_sim])"
   ]
  },
  {
   "cell_type": "code",
   "execution_count": 95,
   "metadata": {
    "slideshow": {
     "slide_type": "subslide"
    }
   },
   "outputs": [
    {
     "data": {
      "image/png": "[encoded data removed]",
      "text/plain": [
       "<Figure size 720x432 with 1 Axes>"
      ]
     },
     "metadata": {},
     "output_type": "display_data"
    }
   ],
   "source": [
    "plt.title('Shower depth')\n",
    "r = plt.hist(cog, color = 'k', **cms_hist)\n",
    "r = plt.hist(cog_sim, color = 'r', **cms_hist)"
   ]
  },
  {
   "cell_type": "code",
   "execution_count": 85,
   "metadata": {
    "slideshow": {
     "slide_type": "skip"
    }
   },
   "outputs": [],
   "source": [
    "cog_diff = abs(cog.mean() - cog_sim.mean())/cog_sim.mean()*1e2"
   ]
  },
  {
   "cell_type": "code",
   "execution_count": 87,
   "metadata": {},
   "outputs": [
    {
     "name": "stdout",
     "output_type": "stream",
     "text": [
      "Discrepancy between the average SD for Data and simulation: 1.38 %\n"
     ]
    }
   ],
   "source": [
    "print('Discrepancy between the average SD for Data and simulation: %.2f %%' %cog_diff)"
   ]
  },
  {
   "cell_type": "code",
   "execution_count": null,
   "metadata": {
    "slideshow": {
     "slide_type": "skip"
    }
   },
   "outputs": [],
   "source": []
  }
 ],
 "metadata": {
  "celltoolbar": "Slideshow",
  "kernelspec": {
   "display_name": "Python 3",
   "language": "python",
   "name": "python3"
  },
  "language_info": {
   "codemirror_mode": {
    "name": "ipython",
    "version": 3
   },
   "file_extension": ".py",
   "mimetype": "text/x-python",
   "name": "python",
   "nbconvert_exporter": "python",
   "pygments_lexer": "ipython3",
   "version": "3.6.5"
  }
 },
 "nbformat": 4,
 "nbformat_minor": 2
}
